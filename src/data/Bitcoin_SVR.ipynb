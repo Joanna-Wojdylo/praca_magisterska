{
 "cells": [
  {
   "cell_type": "code",
   "execution_count": 1,
   "metadata": {},
   "outputs": [],
   "source": [
    "import os\n",
    "import numpy as np\n",
    "import pandas as pd\n",
    "import matplotlib.pyplot as plt\n",
    "import seaborn as sns\n",
    "\n",
    "import matplotlib.dates as mdates\n",
    "\n",
    "from sklearn.model_selection import train_test_split, GridSearchCV, KFold\n",
    "from sklearn.preprocessing import MinMaxScaler, StandardScaler\n",
    "from sklearn.svm import SVR\n",
    "from sklearn import metrics\n",
    "from sklearn.pipeline import Pipeline\n",
    "from math import sqrt"
   ]
  },
  {
   "cell_type": "code",
   "execution_count": 2,
   "metadata": {},
   "outputs": [],
   "source": [
    "def import_data(path):\n",
    "    data = pd.read_csv(path)\n",
    "    return data"
   ]
  },
  {
   "cell_type": "code",
   "execution_count": 3,
   "metadata": {},
   "outputs": [],
   "source": [
    "bitcoin_all = import_data('D:\\\\Studia\\\\W8\\\\Praca magisterska\\\\praca_magisterska\\\\data\\\\raw\\\\BTC-USD.csv')"
   ]
  },
  {
   "cell_type": "markdown",
   "metadata": {},
   "source": [
    "Copying 'Date' column to set one as an index and convert second to integeres using mdates.date2num.\n",
    "We need the dates as integers because you can’t feed dates into Support Vector Machines and neural networks"
   ]
  },
  {
   "cell_type": "code",
   "execution_count": 4,
   "metadata": {},
   "outputs": [],
   "source": [
    "bitcoin_all['Date_num'] = bitcoin_all['Date']\n",
    "bitcoin_all['Date_num'] = bitcoin_all['Date_num'].map(mdates.date2num)"
   ]
  },
  {
   "cell_type": "code",
   "execution_count": 5,
   "metadata": {},
   "outputs": [],
   "source": [
    "bitcoin_all['Date'] = pd.to_datetime(bitcoin_all['Date'], infer_datetime_format=True)\n",
    "bitcoin_all = bitcoin_all.set_index('Date')"
   ]
  },
  {
   "cell_type": "code",
   "execution_count": 6,
   "metadata": {},
   "outputs": [
    {
     "data": {
      "text/html": [
       "<div>\n",
       "<style scoped>\n",
       "    .dataframe tbody tr th:only-of-type {\n",
       "        vertical-align: middle;\n",
       "    }\n",
       "\n",
       "    .dataframe tbody tr th {\n",
       "        vertical-align: top;\n",
       "    }\n",
       "\n",
       "    .dataframe thead th {\n",
       "        text-align: right;\n",
       "    }\n",
       "</style>\n",
       "<table border=\"1\" class=\"dataframe\">\n",
       "  <thead>\n",
       "    <tr style=\"text-align: right;\">\n",
       "      <th></th>\n",
       "      <th>Open</th>\n",
       "      <th>High</th>\n",
       "      <th>Low</th>\n",
       "      <th>Close</th>\n",
       "      <th>Adj Close</th>\n",
       "      <th>Volume</th>\n",
       "      <th>Date_num</th>\n",
       "    </tr>\n",
       "    <tr>\n",
       "      <th>Date</th>\n",
       "      <th></th>\n",
       "      <th></th>\n",
       "      <th></th>\n",
       "      <th></th>\n",
       "      <th></th>\n",
       "      <th></th>\n",
       "      <th></th>\n",
       "    </tr>\n",
       "  </thead>\n",
       "  <tbody>\n",
       "    <tr>\n",
       "      <th>2020-10-21</th>\n",
       "      <td>11913.077148</td>\n",
       "      <td>13184.566406</td>\n",
       "      <td>11900.928711</td>\n",
       "      <td>12823.689453</td>\n",
       "      <td>12823.689453</td>\n",
       "      <td>4.341471e+10</td>\n",
       "      <td>18556.0</td>\n",
       "    </tr>\n",
       "    <tr>\n",
       "      <th>2020-10-22</th>\n",
       "      <td>12801.635742</td>\n",
       "      <td>13161.593750</td>\n",
       "      <td>12717.093750</td>\n",
       "      <td>12965.891602</td>\n",
       "      <td>12965.891602</td>\n",
       "      <td>3.472976e+10</td>\n",
       "      <td>18557.0</td>\n",
       "    </tr>\n",
       "    <tr>\n",
       "      <th>2020-10-23</th>\n",
       "      <td>12971.548828</td>\n",
       "      <td>13015.961914</td>\n",
       "      <td>12752.647461</td>\n",
       "      <td>12931.539063</td>\n",
       "      <td>12931.539063</td>\n",
       "      <td>2.897498e+10</td>\n",
       "      <td>18558.0</td>\n",
       "    </tr>\n",
       "    <tr>\n",
       "      <th>2020-10-24</th>\n",
       "      <td>12931.574219</td>\n",
       "      <td>13145.066406</td>\n",
       "      <td>12885.747070</td>\n",
       "      <td>13108.062500</td>\n",
       "      <td>13108.062500</td>\n",
       "      <td>2.454232e+10</td>\n",
       "      <td>18559.0</td>\n",
       "    </tr>\n",
       "    <tr>\n",
       "      <th>2020-10-25</th>\n",
       "      <td>13312.126953</td>\n",
       "      <td>13329.183594</td>\n",
       "      <td>12910.067383</td>\n",
       "      <td>12956.892578</td>\n",
       "      <td>12956.892578</td>\n",
       "      <td>2.804423e+10</td>\n",
       "      <td>18560.0</td>\n",
       "    </tr>\n",
       "  </tbody>\n",
       "</table>\n",
       "</div>"
      ],
      "text/plain": [
       "                    Open          High           Low         Close  \\\n",
       "Date                                                                 \n",
       "2020-10-21  11913.077148  13184.566406  11900.928711  12823.689453   \n",
       "2020-10-22  12801.635742  13161.593750  12717.093750  12965.891602   \n",
       "2020-10-23  12971.548828  13015.961914  12752.647461  12931.539063   \n",
       "2020-10-24  12931.574219  13145.066406  12885.747070  13108.062500   \n",
       "2020-10-25  13312.126953  13329.183594  12910.067383  12956.892578   \n",
       "\n",
       "               Adj Close        Volume  Date_num  \n",
       "Date                                              \n",
       "2020-10-21  12823.689453  4.341471e+10   18556.0  \n",
       "2020-10-22  12965.891602  3.472976e+10   18557.0  \n",
       "2020-10-23  12931.539063  2.897498e+10   18558.0  \n",
       "2020-10-24  13108.062500  2.454232e+10   18559.0  \n",
       "2020-10-25  12956.892578  2.804423e+10   18560.0  "
      ]
     },
     "execution_count": 6,
     "metadata": {},
     "output_type": "execute_result"
    }
   ],
   "source": [
    "bitcoin_all.tail()"
   ]
  },
  {
   "cell_type": "code",
   "execution_count": 7,
   "metadata": {},
   "outputs": [
    {
     "data": {
      "text/plain": [
       "Open         1\n",
       "High         1\n",
       "Low          1\n",
       "Close        1\n",
       "Adj Close    1\n",
       "Volume       1\n",
       "Date_num     0\n",
       "dtype: int64"
      ]
     },
     "execution_count": 7,
     "metadata": {},
     "output_type": "execute_result"
    }
   ],
   "source": [
    "bitcoin_all.isnull().sum()"
   ]
  },
  {
   "cell_type": "code",
   "execution_count": 8,
   "metadata": {},
   "outputs": [
    {
     "data": {
      "text/html": [
       "<div>\n",
       "<style scoped>\n",
       "    .dataframe tbody tr th:only-of-type {\n",
       "        vertical-align: middle;\n",
       "    }\n",
       "\n",
       "    .dataframe tbody tr th {\n",
       "        vertical-align: top;\n",
       "    }\n",
       "\n",
       "    .dataframe thead th {\n",
       "        text-align: right;\n",
       "    }\n",
       "</style>\n",
       "<table border=\"1\" class=\"dataframe\">\n",
       "  <thead>\n",
       "    <tr style=\"text-align: right;\">\n",
       "      <th></th>\n",
       "      <th>Open</th>\n",
       "      <th>High</th>\n",
       "      <th>Low</th>\n",
       "      <th>Close</th>\n",
       "      <th>Adj Close</th>\n",
       "      <th>Volume</th>\n",
       "      <th>Date_num</th>\n",
       "    </tr>\n",
       "    <tr>\n",
       "      <th>Date</th>\n",
       "      <th></th>\n",
       "      <th></th>\n",
       "      <th></th>\n",
       "      <th></th>\n",
       "      <th></th>\n",
       "      <th></th>\n",
       "      <th></th>\n",
       "    </tr>\n",
       "  </thead>\n",
       "  <tbody>\n",
       "    <tr>\n",
       "      <th>2020-08-04</th>\n",
       "      <td>NaN</td>\n",
       "      <td>NaN</td>\n",
       "      <td>NaN</td>\n",
       "      <td>NaN</td>\n",
       "      <td>NaN</td>\n",
       "      <td>NaN</td>\n",
       "      <td>18478.0</td>\n",
       "    </tr>\n",
       "  </tbody>\n",
       "</table>\n",
       "</div>"
      ],
      "text/plain": [
       "            Open  High  Low  Close  Adj Close  Volume  Date_num\n",
       "Date                                                           \n",
       "2020-08-04   NaN   NaN  NaN    NaN        NaN     NaN   18478.0"
      ]
     },
     "execution_count": 8,
     "metadata": {},
     "output_type": "execute_result"
    }
   ],
   "source": [
    "bitcoin_all[bitcoin_all.isnull().any(axis=1)]"
   ]
  },
  {
   "cell_type": "code",
   "execution_count": 9,
   "metadata": {},
   "outputs": [],
   "source": [
    "bitcoin_all = bitcoin_all.dropna() #remove row with at least one NaN"
   ]
  },
  {
   "cell_type": "code",
   "execution_count": 10,
   "metadata": {},
   "outputs": [
    {
     "data": {
      "text/html": [
       "<div>\n",
       "<style scoped>\n",
       "    .dataframe tbody tr th:only-of-type {\n",
       "        vertical-align: middle;\n",
       "    }\n",
       "\n",
       "    .dataframe tbody tr th {\n",
       "        vertical-align: top;\n",
       "    }\n",
       "\n",
       "    .dataframe thead th {\n",
       "        text-align: right;\n",
       "    }\n",
       "</style>\n",
       "<table border=\"1\" class=\"dataframe\">\n",
       "  <thead>\n",
       "    <tr style=\"text-align: right;\">\n",
       "      <th></th>\n",
       "      <th>Open</th>\n",
       "      <th>High</th>\n",
       "      <th>Low</th>\n",
       "      <th>Close</th>\n",
       "      <th>Adj Close</th>\n",
       "      <th>Volume</th>\n",
       "      <th>Date_num</th>\n",
       "    </tr>\n",
       "  </thead>\n",
       "  <tbody>\n",
       "    <tr>\n",
       "      <th>count</th>\n",
       "      <td>1461.00</td>\n",
       "      <td>1461.00</td>\n",
       "      <td>1461.00</td>\n",
       "      <td>1461.00</td>\n",
       "      <td>1461.00</td>\n",
       "      <td>1.461000e+03</td>\n",
       "      <td>1461.00</td>\n",
       "    </tr>\n",
       "    <tr>\n",
       "      <th>mean</th>\n",
       "      <td>6681.33</td>\n",
       "      <td>6849.06</td>\n",
       "      <td>6503.68</td>\n",
       "      <td>6689.56</td>\n",
       "      <td>6689.56</td>\n",
       "      <td>1.254723e+10</td>\n",
       "      <td>17829.06</td>\n",
       "    </tr>\n",
       "    <tr>\n",
       "      <th>std</th>\n",
       "      <td>3622.76</td>\n",
       "      <td>3733.93</td>\n",
       "      <td>3488.55</td>\n",
       "      <td>3622.98</td>\n",
       "      <td>3622.98</td>\n",
       "      <td>1.265633e+10</td>\n",
       "      <td>421.99</td>\n",
       "    </tr>\n",
       "    <tr>\n",
       "      <th>min</th>\n",
       "      <td>654.00</td>\n",
       "      <td>664.42</td>\n",
       "      <td>653.70</td>\n",
       "      <td>657.59</td>\n",
       "      <td>657.59</td>\n",
       "      <td>5.260180e+07</td>\n",
       "      <td>17099.00</td>\n",
       "    </tr>\n",
       "    <tr>\n",
       "      <th>25%</th>\n",
       "      <td>3848.26</td>\n",
       "      <td>3916.42</td>\n",
       "      <td>3733.75</td>\n",
       "      <td>3851.05</td>\n",
       "      <td>3851.05</td>\n",
       "      <td>2.800890e+09</td>\n",
       "      <td>17464.00</td>\n",
       "    </tr>\n",
       "    <tr>\n",
       "      <th>50%</th>\n",
       "      <td>6971.18</td>\n",
       "      <td>7178.11</td>\n",
       "      <td>6793.82</td>\n",
       "      <td>6972.37</td>\n",
       "      <td>6972.37</td>\n",
       "      <td>7.073550e+09</td>\n",
       "      <td>17829.00</td>\n",
       "    </tr>\n",
       "    <tr>\n",
       "      <th>75%</th>\n",
       "      <td>9292.84</td>\n",
       "      <td>9457.42</td>\n",
       "      <td>9141.25</td>\n",
       "      <td>9303.63</td>\n",
       "      <td>9303.63</td>\n",
       "      <td>1.963222e+10</td>\n",
       "      <td>18194.00</td>\n",
       "    </tr>\n",
       "    <tr>\n",
       "      <th>max</th>\n",
       "      <td>19475.80</td>\n",
       "      <td>20089.00</td>\n",
       "      <td>18974.10</td>\n",
       "      <td>19497.40</td>\n",
       "      <td>19497.40</td>\n",
       "      <td>7.415677e+10</td>\n",
       "      <td>18560.00</td>\n",
       "    </tr>\n",
       "  </tbody>\n",
       "</table>\n",
       "</div>"
      ],
      "text/plain": [
       "           Open      High       Low     Close  Adj Close        Volume  \\\n",
       "count   1461.00   1461.00   1461.00   1461.00    1461.00  1.461000e+03   \n",
       "mean    6681.33   6849.06   6503.68   6689.56    6689.56  1.254723e+10   \n",
       "std     3622.76   3733.93   3488.55   3622.98    3622.98  1.265633e+10   \n",
       "min      654.00    664.42    653.70    657.59     657.59  5.260180e+07   \n",
       "25%     3848.26   3916.42   3733.75   3851.05    3851.05  2.800890e+09   \n",
       "50%     6971.18   7178.11   6793.82   6972.37    6972.37  7.073550e+09   \n",
       "75%     9292.84   9457.42   9141.25   9303.63    9303.63  1.963222e+10   \n",
       "max    19475.80  20089.00  18974.10  19497.40   19497.40  7.415677e+10   \n",
       "\n",
       "       Date_num  \n",
       "count   1461.00  \n",
       "mean   17829.06  \n",
       "std      421.99  \n",
       "min    17099.00  \n",
       "25%    17464.00  \n",
       "50%    17829.00  \n",
       "75%    18194.00  \n",
       "max    18560.00  "
      ]
     },
     "execution_count": 10,
     "metadata": {},
     "output_type": "execute_result"
    }
   ],
   "source": [
    "bitcoin_all.describe().round(2)"
   ]
  },
  {
   "cell_type": "code",
   "execution_count": 11,
   "metadata": {},
   "outputs": [
    {
     "data": {
      "image/png": "[encoded data removed]",
      "text/plain": [
       "<Figure size 432x288 with 1 Axes>"
      ]
     },
     "metadata": {
      "needs_background": "light"
     },
     "output_type": "display_data"
    }
   ],
   "source": [
    "bitcoin_all['Close'].plot(linewidth=0.5);"
   ]
  },
  {
   "cell_type": "code",
   "execution_count": 12,
   "metadata": {},
   "outputs": [
    {
     "data": {
      "text/plain": [
       "<matplotlib.legend.Legend at 0x1fea0179a00>"
      ]
     },
     "execution_count": 12,
     "metadata": {},
     "output_type": "execute_result"
    },
    {
     "data": {
      "image/png": "[encoded data removed]",
      "text/plain": [
       "<Figure size 864x432 with 1 Axes>"
      ]
     },
     "metadata": {
      "needs_background": "light"
     },
     "output_type": "display_data"
    }
   ],
   "source": [
    "close_px = bitcoin_all['Close']\n",
    "mavg = close_px.rolling(window=50).mean()\n",
    "plt.figure(figsize = (12,6))\n",
    "close_px.plot(label='Bitcoib')\n",
    "mavg.plot(label='mavg')\n",
    "plt.xlabel('Date')\n",
    "plt.ylabel('Price')\n",
    "plt.legend()"
   ]
  },
  {
   "cell_type": "code",
   "execution_count": 13,
   "metadata": {},
   "outputs": [],
   "source": [
    "bitcoin_train=bitcoin_all['2016-10-25':'2019-10-25']\n",
    "bitcoin_test=bitcoin_all['2019-10-26':'2020-10-25']"
   ]
  },
  {
   "cell_type": "markdown",
   "metadata": {},
   "source": [
    "wyciagniecie jedynie ceny otwarcia i numerycznej daty do nowej dataframe"
   ]
  },
  {
   "cell_type": "code",
   "execution_count": 14,
   "metadata": {},
   "outputs": [],
   "source": [
    "data_train= bitcoin_train[['Close', 'Date_num']]\n",
    "data_test = bitcoin_test[['Close', 'Date_num']]"
   ]
  },
  {
   "cell_type": "code",
   "execution_count": 15,
   "metadata": {},
   "outputs": [],
   "source": [
    "data_train.columns = ['price','date']\n",
    "data_test.columns = ['price','date']"
   ]
  },
  {
   "cell_type": "code",
   "execution_count": 16,
   "metadata": {},
   "outputs": [
    {
     "data": {
      "image/png": "[encoded data removed]",
      "text/plain": [
       "<Figure size 432x288 with 1 Axes>"
      ]
     },
     "metadata": {
      "needs_background": "light"
     },
     "output_type": "display_data"
    }
   ],
   "source": [
    "data_train.price.plot(linewidth=0.5);"
   ]
  },
  {
   "cell_type": "code",
   "execution_count": 17,
   "metadata": {},
   "outputs": [
    {
     "data": {
      "text/html": [
       "<div>\n",
       "<style scoped>\n",
       "    .dataframe tbody tr th:only-of-type {\n",
       "        vertical-align: middle;\n",
       "    }\n",
       "\n",
       "    .dataframe tbody tr th {\n",
       "        vertical-align: top;\n",
       "    }\n",
       "\n",
       "    .dataframe thead th {\n",
       "        text-align: right;\n",
       "    }\n",
       "</style>\n",
       "<table border=\"1\" class=\"dataframe\">\n",
       "  <thead>\n",
       "    <tr style=\"text-align: right;\">\n",
       "      <th></th>\n",
       "      <th>price</th>\n",
       "      <th>date</th>\n",
       "    </tr>\n",
       "    <tr>\n",
       "      <th>Date</th>\n",
       "      <th></th>\n",
       "      <th></th>\n",
       "    </tr>\n",
       "  </thead>\n",
       "  <tbody>\n",
       "    <tr>\n",
       "      <th>2016-10-25</th>\n",
       "      <td>657.588013</td>\n",
       "      <td>17099.0</td>\n",
       "    </tr>\n",
       "    <tr>\n",
       "      <th>2016-10-26</th>\n",
       "      <td>678.304016</td>\n",
       "      <td>17100.0</td>\n",
       "    </tr>\n",
       "    <tr>\n",
       "      <th>2016-10-27</th>\n",
       "      <td>688.312988</td>\n",
       "      <td>17101.0</td>\n",
       "    </tr>\n",
       "    <tr>\n",
       "      <th>2016-10-28</th>\n",
       "      <td>689.651001</td>\n",
       "      <td>17102.0</td>\n",
       "    </tr>\n",
       "    <tr>\n",
       "      <th>2016-10-29</th>\n",
       "      <td>714.479004</td>\n",
       "      <td>17103.0</td>\n",
       "    </tr>\n",
       "    <tr>\n",
       "      <th>...</th>\n",
       "      <td>...</td>\n",
       "      <td>...</td>\n",
       "    </tr>\n",
       "    <tr>\n",
       "      <th>2019-10-21</th>\n",
       "      <td>8243.720703</td>\n",
       "      <td>18190.0</td>\n",
       "    </tr>\n",
       "    <tr>\n",
       "      <th>2019-10-22</th>\n",
       "      <td>8078.203125</td>\n",
       "      <td>18191.0</td>\n",
       "    </tr>\n",
       "    <tr>\n",
       "      <th>2019-10-23</th>\n",
       "      <td>7514.671875</td>\n",
       "      <td>18192.0</td>\n",
       "    </tr>\n",
       "    <tr>\n",
       "      <th>2019-10-24</th>\n",
       "      <td>7493.488770</td>\n",
       "      <td>18193.0</td>\n",
       "    </tr>\n",
       "    <tr>\n",
       "      <th>2019-10-25</th>\n",
       "      <td>8660.700195</td>\n",
       "      <td>18194.0</td>\n",
       "    </tr>\n",
       "  </tbody>\n",
       "</table>\n",
       "<p>1096 rows × 2 columns</p>\n",
       "</div>"
      ],
      "text/plain": [
       "                  price     date\n",
       "Date                            \n",
       "2016-10-25   657.588013  17099.0\n",
       "2016-10-26   678.304016  17100.0\n",
       "2016-10-27   688.312988  17101.0\n",
       "2016-10-28   689.651001  17102.0\n",
       "2016-10-29   714.479004  17103.0\n",
       "...                 ...      ...\n",
       "2019-10-21  8243.720703  18190.0\n",
       "2019-10-22  8078.203125  18191.0\n",
       "2019-10-23  7514.671875  18192.0\n",
       "2019-10-24  7493.488770  18193.0\n",
       "2019-10-25  8660.700195  18194.0\n",
       "\n",
       "[1096 rows x 2 columns]"
      ]
     },
     "execution_count": 17,
     "metadata": {},
     "output_type": "execute_result"
    }
   ],
   "source": [
    "data_train"
   ]
  },
  {
   "cell_type": "code",
   "execution_count": 18,
   "metadata": {
    "scrolled": true
   },
   "outputs": [
    {
     "data": {
      "image/png": "[encoded data removed]",
      "text/plain": [
       "<Figure size 432x288 with 1 Axes>"
      ]
     },
     "metadata": {
      "needs_background": "light"
     },
     "output_type": "display_data"
    }
   ],
   "source": [
    "data_train['price'].plot(linewidth=0.5);"
   ]
  },
  {
   "cell_type": "code",
   "execution_count": 19,
   "metadata": {},
   "outputs": [],
   "source": [
    "dates_train = data_train['date'].to_numpy()\n",
    "prices_train = data_train['price'].to_numpy()\n",
    "dates_test = data_test['date'].to_numpy()\n",
    "prices_test = data_test['price'].to_numpy()"
   ]
  },
  {
   "cell_type": "code",
   "execution_count": 20,
   "metadata": {},
   "outputs": [
    {
     "data": {
      "text/plain": [
       "array([17099., 17100., 17101., ..., 18192., 18193., 18194.])"
      ]
     },
     "execution_count": 20,
     "metadata": {},
     "output_type": "execute_result"
    }
   ],
   "source": [
    "dates_train"
   ]
  },
  {
   "cell_type": "code",
   "execution_count": 21,
   "metadata": {},
   "outputs": [],
   "source": [
    "#Convert to 1d Vector\n",
    "dates_train = np.reshape(dates_train, (len(dates_train), 1))\n",
    "prices_train = np.reshape(prices_train, (len(prices_train), 1))\n",
    "dates_test = np.reshape(dates_test, (len(dates_test), 1))\n",
    "prices_test = np.reshape(prices_test, (len(prices_test), 1))"
   ]
  },
  {
   "cell_type": "code",
   "execution_count": 22,
   "metadata": {},
   "outputs": [],
   "source": [
    "scaler = StandardScaler().fit(prices_train)\n",
    "prices_train = scaler.transform(prices_train)\n",
    "#scaler_dates = StandardScaler().fit(dates_train)\n",
    "#dates_train = scaler_dates.transform(dates_train)\n"
   ]
  },
  {
   "cell_type": "code",
   "execution_count": 56,
   "metadata": {},
   "outputs": [
    {
     "data": {
      "text/plain": [
       "StandardScaler()"
      ]
     },
     "execution_count": 56,
     "metadata": {},
     "output_type": "execute_result"
    }
   ],
   "source": [
    "scaler_dates"
   ]
  },
  {
   "cell_type": "code",
   "execution_count": 50,
   "metadata": {},
   "outputs": [
    {
     "name": "stdout",
     "output_type": "stream",
     "text": [
      "Fitting 5 folds for each of 25 candidates, totalling 125 fits\n",
      "[CV] C=0.1, gamma=1, kernel=rbf ......................................\n",
      "[CV] ....................... C=0.1, gamma=1, kernel=rbf, total=   0.1s\n",
      "[CV] C=0.1, gamma=1, kernel=rbf ......................................\n",
      "[CV] ....................... C=0.1, gamma=1, kernel=rbf, total=   0.1s"
     ]
    },
    {
     "name": "stderr",
     "output_type": "stream",
     "text": [
      "[Parallel(n_jobs=1)]: Using backend SequentialBackend with 1 concurrent workers.\n",
      "[Parallel(n_jobs=1)]: Done   1 out of   1 | elapsed:    0.0s remaining:    0.0s\n"
     ]
    },
    {
     "name": "stdout",
     "output_type": "stream",
     "text": [
      "\n",
      "[CV] C=0.1, gamma=1, kernel=rbf ......................................\n",
      "[CV] ....................... C=0.1, gamma=1, kernel=rbf, total=   0.1s\n",
      "[CV] C=0.1, gamma=1, kernel=rbf ......................................\n",
      "[CV] ....................... C=0.1, gamma=1, kernel=rbf, total=   0.1s\n",
      "[CV] C=0.1, gamma=1, kernel=rbf ......................................\n",
      "[CV] ....................... C=0.1, gamma=1, kernel=rbf, total=   0.1s\n",
      "[CV] C=0.1, gamma=0.1, kernel=rbf ....................................\n",
      "[CV] ..................... C=0.1, gamma=0.1, kernel=rbf, total=   0.1s\n",
      "[CV] C=0.1, gamma=0.1, kernel=rbf ....................................\n",
      "[CV] ..................... C=0.1, gamma=0.1, kernel=rbf, total=   0.1s\n",
      "[CV] C=0.1, gamma=0.1, kernel=rbf ....................................\n",
      "[CV] ..................... C=0.1, gamma=0.1, kernel=rbf, total=   0.1s\n",
      "[CV] C=0.1, gamma=0.1, kernel=rbf ....................................\n",
      "[CV] ..................... C=0.1, gamma=0.1, kernel=rbf, total=   0.1s\n",
      "[CV] C=0.1, gamma=0.1, kernel=rbf ....................................\n",
      "[CV] ..................... C=0.1, gamma=0.1, kernel=rbf, total=   0.1s\n",
      "[CV] C=0.1, gamma=0.01, kernel=rbf ...................................\n",
      "[CV] .................... C=0.1, gamma=0.01, kernel=rbf, total=   0.1s\n",
      "[CV] C=0.1, gamma=0.01, kernel=rbf ...................................\n",
      "[CV] .................... C=0.1, gamma=0.01, kernel=rbf, total=   0.1s\n",
      "[CV] C=0.1, gamma=0.01, kernel=rbf ...................................\n",
      "[CV] .................... C=0.1, gamma=0.01, kernel=rbf, total=   0.1s\n",
      "[CV] C=0.1, gamma=0.01, kernel=rbf ...................................\n",
      "[CV] .................... C=0.1, gamma=0.01, kernel=rbf, total=   0.1s\n",
      "[CV] C=0.1, gamma=0.01, kernel=rbf ...................................\n",
      "[CV] .................... C=0.1, gamma=0.01, kernel=rbf, total=   0.1s\n",
      "[CV] C=0.1, gamma=0.001, kernel=rbf ..................................\n",
      "[CV] ................... C=0.1, gamma=0.001, kernel=rbf, total=   0.1s\n",
      "[CV] C=0.1, gamma=0.001, kernel=rbf ..................................\n",
      "[CV] ................... C=0.1, gamma=0.001, kernel=rbf, total=   0.1s\n",
      "[CV] C=0.1, gamma=0.001, kernel=rbf ..................................\n",
      "[CV] ................... C=0.1, gamma=0.001, kernel=rbf, total=   0.1s\n",
      "[CV] C=0.1, gamma=0.001, kernel=rbf ..................................\n",
      "[CV] ................... C=0.1, gamma=0.001, kernel=rbf, total=   0.1s\n",
      "[CV] C=0.1, gamma=0.001, kernel=rbf ..................................\n",
      "[CV] ................... C=0.1, gamma=0.001, kernel=rbf, total=   0.1s\n",
      "[CV] C=0.1, gamma=0.0001, kernel=rbf .................................\n",
      "[CV] .................. C=0.1, gamma=0.0001, kernel=rbf, total=   0.1s\n",
      "[CV] C=0.1, gamma=0.0001, kernel=rbf .................................\n",
      "[CV] .................. C=0.1, gamma=0.0001, kernel=rbf, total=   0.1s\n",
      "[CV] C=0.1, gamma=0.0001, kernel=rbf .................................\n",
      "[CV] .................. C=0.1, gamma=0.0001, kernel=rbf, total=   0.1s\n",
      "[CV] C=0.1, gamma=0.0001, kernel=rbf .................................\n",
      "[CV] .................. C=0.1, gamma=0.0001, kernel=rbf, total=   0.1s\n",
      "[CV] C=0.1, gamma=0.0001, kernel=rbf .................................\n",
      "[CV] .................. C=0.1, gamma=0.0001, kernel=rbf, total=   0.1s\n",
      "[CV] C=1, gamma=1, kernel=rbf ........................................\n",
      "[CV] ......................... C=1, gamma=1, kernel=rbf, total=   0.1s\n",
      "[CV] C=1, gamma=1, kernel=rbf ........................................\n",
      "[CV] ......................... C=1, gamma=1, kernel=rbf, total=   0.1s\n",
      "[CV] C=1, gamma=1, kernel=rbf ........................................\n",
      "[CV] ......................... C=1, gamma=1, kernel=rbf, total=   0.1s\n",
      "[CV] C=1, gamma=1, kernel=rbf ........................................\n",
      "[CV] ......................... C=1, gamma=1, kernel=rbf, total=   0.1s\n",
      "[CV] C=1, gamma=1, kernel=rbf ........................................\n",
      "[CV] ......................... C=1, gamma=1, kernel=rbf, total=   0.1s\n",
      "[CV] C=1, gamma=0.1, kernel=rbf ......................................\n",
      "[CV] ....................... C=1, gamma=0.1, kernel=rbf, total=   0.1s\n",
      "[CV] C=1, gamma=0.1, kernel=rbf ......................................\n",
      "[CV] ....................... C=1, gamma=0.1, kernel=rbf, total=   0.1s\n",
      "[CV] C=1, gamma=0.1, kernel=rbf ......................................\n",
      "[CV] ....................... C=1, gamma=0.1, kernel=rbf, total=   0.1s\n",
      "[CV] C=1, gamma=0.1, kernel=rbf ......................................\n",
      "[CV] ....................... C=1, gamma=0.1, kernel=rbf, total=   0.1s\n",
      "[CV] C=1, gamma=0.1, kernel=rbf ......................................\n",
      "[CV] ....................... C=1, gamma=0.1, kernel=rbf, total=   0.1s\n",
      "[CV] C=1, gamma=0.01, kernel=rbf .....................................\n",
      "[CV] ...................... C=1, gamma=0.01, kernel=rbf, total=   0.1s\n",
      "[CV] C=1, gamma=0.01, kernel=rbf .....................................\n",
      "[CV] ...................... C=1, gamma=0.01, kernel=rbf, total=   0.1s\n",
      "[CV] C=1, gamma=0.01, kernel=rbf .....................................\n",
      "[CV] ...................... C=1, gamma=0.01, kernel=rbf, total=   0.1s\n",
      "[CV] C=1, gamma=0.01, kernel=rbf .....................................\n",
      "[CV] ...................... C=1, gamma=0.01, kernel=rbf, total=   0.1s\n",
      "[CV] C=1, gamma=0.01, kernel=rbf .....................................\n",
      "[CV] ...................... C=1, gamma=0.01, kernel=rbf, total=   0.1s\n",
      "[CV] C=1, gamma=0.001, kernel=rbf ....................................\n",
      "[CV] ..................... C=1, gamma=0.001, kernel=rbf, total=   0.1s\n",
      "[CV] C=1, gamma=0.001, kernel=rbf ....................................\n",
      "[CV] ..................... C=1, gamma=0.001, kernel=rbf, total=   0.1s\n",
      "[CV] C=1, gamma=0.001, kernel=rbf ....................................\n",
      "[CV] ..................... C=1, gamma=0.001, kernel=rbf, total=   0.1s\n",
      "[CV] C=1, gamma=0.001, kernel=rbf ....................................\n",
      "[CV] ..................... C=1, gamma=0.001, kernel=rbf, total=   0.1s\n",
      "[CV] C=1, gamma=0.001, kernel=rbf ....................................\n",
      "[CV] ..................... C=1, gamma=0.001, kernel=rbf, total=   0.1s\n",
      "[CV] C=1, gamma=0.0001, kernel=rbf ...................................\n",
      "[CV] .................... C=1, gamma=0.0001, kernel=rbf, total=   0.1s\n",
      "[CV] C=1, gamma=0.0001, kernel=rbf ...................................\n",
      "[CV] .................... C=1, gamma=0.0001, kernel=rbf, total=   0.1s\n",
      "[CV] C=1, gamma=0.0001, kernel=rbf ...................................\n",
      "[CV] .................... C=1, gamma=0.0001, kernel=rbf, total=   0.1s\n",
      "[CV] C=1, gamma=0.0001, kernel=rbf ...................................\n",
      "[CV] .................... C=1, gamma=0.0001, kernel=rbf, total=   0.1s\n",
      "[CV] C=1, gamma=0.0001, kernel=rbf ...................................\n",
      "[CV] .................... C=1, gamma=0.0001, kernel=rbf, total=   0.1s\n",
      "[CV] C=10, gamma=1, kernel=rbf .......................................\n",
      "[CV] ........................ C=10, gamma=1, kernel=rbf, total=   0.2s\n",
      "[CV] C=10, gamma=1, kernel=rbf .......................................\n",
      "[CV] ........................ C=10, gamma=1, kernel=rbf, total=   0.1s\n",
      "[CV] C=10, gamma=1, kernel=rbf .......................................\n",
      "[CV] ........................ C=10, gamma=1, kernel=rbf, total=   0.2s\n",
      "[CV] C=10, gamma=1, kernel=rbf .......................................\n",
      "[CV] ........................ C=10, gamma=1, kernel=rbf, total=   0.1s\n",
      "[CV] C=10, gamma=1, kernel=rbf .......................................\n",
      "[CV] ........................ C=10, gamma=1, kernel=rbf, total=   0.2s\n",
      "[CV] C=10, gamma=0.1, kernel=rbf .....................................\n",
      "[CV] ...................... C=10, gamma=0.1, kernel=rbf, total=   0.1s\n",
      "[CV] C=10, gamma=0.1, kernel=rbf .....................................\n",
      "[CV] ...................... C=10, gamma=0.1, kernel=rbf, total=   0.1s\n",
      "[CV] C=10, gamma=0.1, kernel=rbf .....................................\n",
      "[CV] ...................... C=10, gamma=0.1, kernel=rbf, total=   0.1s\n",
      "[CV] C=10, gamma=0.1, kernel=rbf .....................................\n",
      "[CV] ...................... C=10, gamma=0.1, kernel=rbf, total=   0.1s\n",
      "[CV] C=10, gamma=0.1, kernel=rbf .....................................\n",
      "[CV] ...................... C=10, gamma=0.1, kernel=rbf, total=   0.1s\n",
      "[CV] C=10, gamma=0.01, kernel=rbf ....................................\n",
      "[CV] ..................... C=10, gamma=0.01, kernel=rbf, total=   0.1s\n",
      "[CV] C=10, gamma=0.01, kernel=rbf ....................................\n"
     ]
    },
    {
     "name": "stdout",
     "output_type": "stream",
     "text": [
      "[CV] ..................... C=10, gamma=0.01, kernel=rbf, total=   0.1s\n",
      "[CV] C=10, gamma=0.01, kernel=rbf ....................................\n",
      "[CV] ..................... C=10, gamma=0.01, kernel=rbf, total=   0.1s\n",
      "[CV] C=10, gamma=0.01, kernel=rbf ....................................\n",
      "[CV] ..................... C=10, gamma=0.01, kernel=rbf, total=   0.2s\n",
      "[CV] C=10, gamma=0.01, kernel=rbf ....................................\n",
      "[CV] ..................... C=10, gamma=0.01, kernel=rbf, total=   0.1s\n",
      "[CV] C=10, gamma=0.001, kernel=rbf ...................................\n",
      "[CV] .................... C=10, gamma=0.001, kernel=rbf, total=   0.1s\n",
      "[CV] C=10, gamma=0.001, kernel=rbf ...................................\n",
      "[CV] .................... C=10, gamma=0.001, kernel=rbf, total=   0.1s\n",
      "[CV] C=10, gamma=0.001, kernel=rbf ...................................\n",
      "[CV] .................... C=10, gamma=0.001, kernel=rbf, total=   0.1s\n",
      "[CV] C=10, gamma=0.001, kernel=rbf ...................................\n",
      "[CV] .................... C=10, gamma=0.001, kernel=rbf, total=   0.1s\n",
      "[CV] C=10, gamma=0.001, kernel=rbf ...................................\n",
      "[CV] .................... C=10, gamma=0.001, kernel=rbf, total=   0.1s\n",
      "[CV] C=10, gamma=0.0001, kernel=rbf ..................................\n",
      "[CV] ................... C=10, gamma=0.0001, kernel=rbf, total=   0.1s\n",
      "[CV] C=10, gamma=0.0001, kernel=rbf ..................................\n",
      "[CV] ................... C=10, gamma=0.0001, kernel=rbf, total=   0.1s\n",
      "[CV] C=10, gamma=0.0001, kernel=rbf ..................................\n",
      "[CV] ................... C=10, gamma=0.0001, kernel=rbf, total=   0.1s\n",
      "[CV] C=10, gamma=0.0001, kernel=rbf ..................................\n",
      "[CV] ................... C=10, gamma=0.0001, kernel=rbf, total=   0.1s\n",
      "[CV] C=10, gamma=0.0001, kernel=rbf ..................................\n",
      "[CV] ................... C=10, gamma=0.0001, kernel=rbf, total=   0.1s\n",
      "[CV] C=100, gamma=1, kernel=rbf ......................................\n",
      "[CV] ....................... C=100, gamma=1, kernel=rbf, total=   0.4s\n",
      "[CV] C=100, gamma=1, kernel=rbf ......................................\n",
      "[CV] ....................... C=100, gamma=1, kernel=rbf, total=   0.4s\n",
      "[CV] C=100, gamma=1, kernel=rbf ......................................\n",
      "[CV] ....................... C=100, gamma=1, kernel=rbf, total=   0.4s\n",
      "[CV] C=100, gamma=1, kernel=rbf ......................................\n",
      "[CV] ....................... C=100, gamma=1, kernel=rbf, total=   0.4s\n",
      "[CV] C=100, gamma=1, kernel=rbf ......................................\n",
      "[CV] ....................... C=100, gamma=1, kernel=rbf, total=   0.5s\n",
      "[CV] C=100, gamma=0.1, kernel=rbf ....................................\n",
      "[CV] ..................... C=100, gamma=0.1, kernel=rbf, total=   0.2s\n",
      "[CV] C=100, gamma=0.1, kernel=rbf ....................................\n",
      "[CV] ..................... C=100, gamma=0.1, kernel=rbf, total=   0.4s\n",
      "[CV] C=100, gamma=0.1, kernel=rbf ....................................\n",
      "[CV] ..................... C=100, gamma=0.1, kernel=rbf, total=   0.2s\n",
      "[CV] C=100, gamma=0.1, kernel=rbf ....................................\n",
      "[CV] ..................... C=100, gamma=0.1, kernel=rbf, total=   0.3s\n",
      "[CV] C=100, gamma=0.1, kernel=rbf ....................................\n",
      "[CV] ..................... C=100, gamma=0.1, kernel=rbf, total=   0.3s\n",
      "[CV] C=100, gamma=0.01, kernel=rbf ...................................\n",
      "[CV] .................... C=100, gamma=0.01, kernel=rbf, total=   0.1s\n",
      "[CV] C=100, gamma=0.01, kernel=rbf ...................................\n",
      "[CV] .................... C=100, gamma=0.01, kernel=rbf, total=   0.1s\n",
      "[CV] C=100, gamma=0.01, kernel=rbf ...................................\n",
      "[CV] .................... C=100, gamma=0.01, kernel=rbf, total=   0.1s\n",
      "[CV] C=100, gamma=0.01, kernel=rbf ...................................\n",
      "[CV] .................... C=100, gamma=0.01, kernel=rbf, total=   0.2s\n",
      "[CV] C=100, gamma=0.01, kernel=rbf ...................................\n",
      "[CV] .................... C=100, gamma=0.01, kernel=rbf, total=   0.2s\n",
      "[CV] C=100, gamma=0.001, kernel=rbf ..................................\n",
      "[CV] ................... C=100, gamma=0.001, kernel=rbf, total=   0.1s\n",
      "[CV] C=100, gamma=0.001, kernel=rbf ..................................\n",
      "[CV] ................... C=100, gamma=0.001, kernel=rbf, total=   0.1s\n",
      "[CV] C=100, gamma=0.001, kernel=rbf ..................................\n",
      "[CV] ................... C=100, gamma=0.001, kernel=rbf, total=   0.1s\n",
      "[CV] C=100, gamma=0.001, kernel=rbf ..................................\n",
      "[CV] ................... C=100, gamma=0.001, kernel=rbf, total=   0.1s\n",
      "[CV] C=100, gamma=0.001, kernel=rbf ..................................\n",
      "[CV] ................... C=100, gamma=0.001, kernel=rbf, total=   0.1s\n",
      "[CV] C=100, gamma=0.0001, kernel=rbf .................................\n",
      "[CV] .................. C=100, gamma=0.0001, kernel=rbf, total=   0.1s\n",
      "[CV] C=100, gamma=0.0001, kernel=rbf .................................\n",
      "[CV] .................. C=100, gamma=0.0001, kernel=rbf, total=   0.1s\n",
      "[CV] C=100, gamma=0.0001, kernel=rbf .................................\n",
      "[CV] .................. C=100, gamma=0.0001, kernel=rbf, total=   0.1s\n",
      "[CV] C=100, gamma=0.0001, kernel=rbf .................................\n",
      "[CV] .................. C=100, gamma=0.0001, kernel=rbf, total=   0.1s\n",
      "[CV] C=100, gamma=0.0001, kernel=rbf .................................\n",
      "[CV] .................. C=100, gamma=0.0001, kernel=rbf, total=   0.1s\n",
      "[CV] C=1000, gamma=1, kernel=rbf .....................................\n",
      "[CV] ...................... C=1000, gamma=1, kernel=rbf, total=   1.1s\n",
      "[CV] C=1000, gamma=1, kernel=rbf .....................................\n",
      "[CV] ...................... C=1000, gamma=1, kernel=rbf, total=   1.0s\n",
      "[CV] C=1000, gamma=1, kernel=rbf .....................................\n",
      "[CV] ...................... C=1000, gamma=1, kernel=rbf, total=   2.0s\n",
      "[CV] C=1000, gamma=1, kernel=rbf .....................................\n",
      "[CV] ...................... C=1000, gamma=1, kernel=rbf, total=   1.8s\n",
      "[CV] C=1000, gamma=1, kernel=rbf .....................................\n",
      "[CV] ...................... C=1000, gamma=1, kernel=rbf, total=   2.1s\n",
      "[CV] C=1000, gamma=0.1, kernel=rbf ...................................\n",
      "[CV] .................... C=1000, gamma=0.1, kernel=rbf, total=   0.7s\n",
      "[CV] C=1000, gamma=0.1, kernel=rbf ...................................\n",
      "[CV] .................... C=1000, gamma=0.1, kernel=rbf, total=   1.1s\n",
      "[CV] C=1000, gamma=0.1, kernel=rbf ...................................\n",
      "[CV] .................... C=1000, gamma=0.1, kernel=rbf, total=   1.2s\n",
      "[CV] C=1000, gamma=0.1, kernel=rbf ...................................\n",
      "[CV] .................... C=1000, gamma=0.1, kernel=rbf, total=   1.2s\n",
      "[CV] C=1000, gamma=0.1, kernel=rbf ...................................\n",
      "[CV] .................... C=1000, gamma=0.1, kernel=rbf, total=   1.3s\n",
      "[CV] C=1000, gamma=0.01, kernel=rbf ..................................\n",
      "[CV] ................... C=1000, gamma=0.01, kernel=rbf, total=   0.3s\n",
      "[CV] C=1000, gamma=0.01, kernel=rbf ..................................\n",
      "[CV] ................... C=1000, gamma=0.01, kernel=rbf, total=   0.6s\n",
      "[CV] C=1000, gamma=0.01, kernel=rbf ..................................\n",
      "[CV] ................... C=1000, gamma=0.01, kernel=rbf, total=   0.3s\n",
      "[CV] C=1000, gamma=0.01, kernel=rbf ..................................\n",
      "[CV] ................... C=1000, gamma=0.01, kernel=rbf, total=   0.4s\n",
      "[CV] C=1000, gamma=0.01, kernel=rbf ..................................\n",
      "[CV] ................... C=1000, gamma=0.01, kernel=rbf, total=   0.4s\n",
      "[CV] C=1000, gamma=0.001, kernel=rbf .................................\n",
      "[CV] .................. C=1000, gamma=0.001, kernel=rbf, total=   0.2s\n",
      "[CV] C=1000, gamma=0.001, kernel=rbf .................................\n",
      "[CV] .................. C=1000, gamma=0.001, kernel=rbf, total=   0.2s\n",
      "[CV] C=1000, gamma=0.001, kernel=rbf .................................\n",
      "[CV] .................. C=1000, gamma=0.001, kernel=rbf, total=   0.2s\n",
      "[CV] C=1000, gamma=0.001, kernel=rbf .................................\n",
      "[CV] .................. C=1000, gamma=0.001, kernel=rbf, total=   0.2s\n",
      "[CV] C=1000, gamma=0.001, kernel=rbf .................................\n",
      "[CV] .................. C=1000, gamma=0.001, kernel=rbf, total=   0.2s\n",
      "[CV] C=1000, gamma=0.0001, kernel=rbf ................................\n"
     ]
    },
    {
     "name": "stdout",
     "output_type": "stream",
     "text": [
      "[CV] ................. C=1000, gamma=0.0001, kernel=rbf, total=   0.1s\n",
      "[CV] C=1000, gamma=0.0001, kernel=rbf ................................\n",
      "[CV] ................. C=1000, gamma=0.0001, kernel=rbf, total=   0.1s\n",
      "[CV] C=1000, gamma=0.0001, kernel=rbf ................................\n",
      "[CV] ................. C=1000, gamma=0.0001, kernel=rbf, total=   0.1s\n",
      "[CV] C=1000, gamma=0.0001, kernel=rbf ................................\n",
      "[CV] ................. C=1000, gamma=0.0001, kernel=rbf, total=   0.1s\n",
      "[CV] C=1000, gamma=0.0001, kernel=rbf ................................\n",
      "[CV] ................. C=1000, gamma=0.0001, kernel=rbf, total=   0.1s\n"
     ]
    },
    {
     "name": "stderr",
     "output_type": "stream",
     "text": [
      "[Parallel(n_jobs=1)]: Done 125 out of 125 | elapsed:   30.8s finished\n"
     ]
    },
    {
     "data": {
      "text/plain": [
       "GridSearchCV(estimator=SVR(),\n",
       "             param_grid={'C': [0.1, 1, 10, 100, 1000],\n",
       "                         'gamma': [1, 0.1, 0.01, 0.001, 0.0001],\n",
       "                         'kernel': ['rbf']},\n",
       "             verbose=2)"
      ]
     },
     "execution_count": 50,
     "metadata": {},
     "output_type": "execute_result"
    }
   ],
   "source": [
    "# defining parameter range \n",
    "param_grid = {'C': [0.1, 1, 10, 100, 1000],  \n",
    "              'gamma': [1, 0.1, 0.01, 0.001, 0.0001], \n",
    "              'kernel': ['rbf']}  \n",
    "  \n",
    "svr_rbf = GridSearchCV(SVR(), param_grid, refit = True, verbose = 2) \n",
    "  \n",
    "# fitting the model for grid search \n",
    "svr_rbf.fit(dates_train, prices_train.ravel()) "
   ]
  },
  {
   "cell_type": "code",
   "execution_count": null,
   "metadata": {},
   "outputs": [],
   "source": [
    "svr_rbf = SVR(kernel= 'rbf', C= 1e3, gamma= 0.01, epsilon = 0.1)\n",
    "svr_rbf.fit(dates_train, prices_train.ravel())"
   ]
  },
  {
   "cell_type": "code",
   "execution_count": null,
   "metadata": {},
   "outputs": [],
   "source": [
    "plt.figure(figsize = (12,6))\n",
    "plt.plot(dates_train, scaler.inverse_transform(prices_train), color= 'black', label= 'Bitcoin prices train')\n",
    "plt.plot(dates_test, prices_test, color= 'blue', label= 'Bitcoin prices test')\n",
    "plt.plot(dates_train, scaler.inverse_transform(svr_rbf.predict(dates_train)), color= 'red', label= 'RBF model') \n",
    "plt.plot(dates_test, scaler.inverse_transform(svr_rbf.predict(dates_test)), color= 'green', label= 'RBF model')\n",
    "plt.xlabel('Date')\n",
    "plt.ylabel('Price')\n",
    "plt.legend()\n",
    "plt.show()"
   ]
  },
  {
   "cell_type": "code",
   "execution_count": 59,
   "metadata": {},
   "outputs": [
    {
     "data": {
      "text/plain": [
       "array([5873.29043246, 5873.18093954, 5873.18093954, 5873.18093954,\n",
       "       5873.18093954, 5873.18093954, 5873.18093954, 5873.18093954,\n",
       "       5873.18093954, 5873.18093954, 5873.18093954, 5873.18093954,\n",
       "       5873.18093954, 5873.18093954, 5873.18093954, 5873.18093954,\n",
       "       5873.18093954, 5873.18093954, 5873.18093954, 5873.18093954,\n",
       "       5873.18093954, 5873.18093954, 5873.18093954, 5873.18093954,\n",
       "       5873.18093954, 5873.18093954, 5873.18093954, 5873.18093954,\n",
       "       5873.18093954, 5873.18093954, 5873.18093954, 5873.18093954,\n",
       "       5873.18093954, 5873.18093954, 5873.18093954, 5873.18093954,\n",
       "       5873.18093954, 5873.18093954, 5873.18093954, 5873.18093954,\n",
       "       5873.18093954, 5873.18093954, 5873.18093954, 5873.18093954,\n",
       "       5873.18093954, 5873.18093954, 5873.18093954, 5873.18093954,\n",
       "       5873.18093954, 5873.18093954, 5873.18093954, 5873.18093954,\n",
       "       5873.18093954, 5873.18093954, 5873.18093954, 5873.18093954,\n",
       "       5873.18093954, 5873.18093954, 5873.18093954, 5873.18093954,\n",
       "       5873.18093954, 5873.18093954, 5873.18093954, 5873.18093954,\n",
       "       5873.18093954, 5873.18093954, 5873.18093954, 5873.18093954,\n",
       "       5873.18093954, 5873.18093954, 5873.18093954, 5873.18093954,\n",
       "       5873.18093954, 5873.18093954, 5873.18093954, 5873.18093954,\n",
       "       5873.18093954, 5873.18093954, 5873.18093954, 5873.18093954,\n",
       "       5873.18093954, 5873.18093954, 5873.18093954, 5873.18093954,\n",
       "       5873.18093954, 5873.18093954, 5873.18093954, 5873.18093954,\n",
       "       5873.18093954, 5873.18093954, 5873.18093954, 5873.18093954,\n",
       "       5873.18093954, 5873.18093954, 5873.18093954, 5873.18093954,\n",
       "       5873.18093954, 5873.18093954, 5873.18093954, 5873.18093954,\n",
       "       5873.18093954, 5873.18093954, 5873.18093954, 5873.18093954,\n",
       "       5873.18093954, 5873.18093954, 5873.18093954, 5873.18093954,\n",
       "       5873.18093954, 5873.18093954, 5873.18093954, 5873.18093954,\n",
       "       5873.18093954, 5873.18093954, 5873.18093954, 5873.18093954,\n",
       "       5873.18093954, 5873.18093954, 5873.18093954, 5873.18093954,\n",
       "       5873.18093954, 5873.18093954, 5873.18093954, 5873.18093954,\n",
       "       5873.18093954, 5873.18093954, 5873.18093954, 5873.18093954,\n",
       "       5873.18093954, 5873.18093954, 5873.18093954, 5873.18093954,\n",
       "       5873.18093954, 5873.18093954, 5873.18093954, 5873.18093954,\n",
       "       5873.18093954, 5873.18093954, 5873.18093954, 5873.18093954,\n",
       "       5873.18093954, 5873.18093954, 5873.18093954, 5873.18093954,\n",
       "       5873.18093954, 5873.18093954, 5873.18093954, 5873.18093954,\n",
       "       5873.18093954, 5873.18093954, 5873.18093954, 5873.18093954,\n",
       "       5873.18093954, 5873.18093954, 5873.18093954, 5873.18093954,\n",
       "       5873.18093954, 5873.18093954, 5873.18093954, 5873.18093954,\n",
       "       5873.18093954, 5873.18093954, 5873.18093954, 5873.18093954,\n",
       "       5873.18093954, 5873.18093954, 5873.18093954, 5873.18093954,\n",
       "       5873.18093954, 5873.18093954, 5873.18093954, 5873.18093954,\n",
       "       5873.18093954, 5873.18093954, 5873.18093954, 5873.18093954,\n",
       "       5873.18093954, 5873.18093954, 5873.18093954, 5873.18093954,\n",
       "       5873.18093954, 5873.18093954, 5873.18093954, 5873.18093954,\n",
       "       5873.18093954, 5873.18093954, 5873.18093954, 5873.18093954,\n",
       "       5873.18093954, 5873.18093954, 5873.18093954, 5873.18093954,\n",
       "       5873.18093954, 5873.18093954, 5873.18093954, 5873.18093954,\n",
       "       5873.18093954, 5873.18093954, 5873.18093954, 5873.18093954,\n",
       "       5873.18093954, 5873.18093954, 5873.18093954, 5873.18093954,\n",
       "       5873.18093954, 5873.18093954, 5873.18093954, 5873.18093954,\n",
       "       5873.18093954, 5873.18093954, 5873.18093954, 5873.18093954,\n",
       "       5873.18093954, 5873.18093954, 5873.18093954, 5873.18093954,\n",
       "       5873.18093954, 5873.18093954, 5873.18093954, 5873.18093954,\n",
       "       5873.18093954, 5873.18093954, 5873.18093954, 5873.18093954,\n",
       "       5873.18093954, 5873.18093954, 5873.18093954, 5873.18093954,\n",
       "       5873.18093954, 5873.18093954, 5873.18093954, 5873.18093954,\n",
       "       5873.18093954, 5873.18093954, 5873.18093954, 5873.18093954,\n",
       "       5873.18093954, 5873.18093954, 5873.18093954, 5873.18093954,\n",
       "       5873.18093954, 5873.18093954, 5873.18093954, 5873.18093954,\n",
       "       5873.18093954, 5873.18093954, 5873.18093954, 5873.18093954,\n",
       "       5873.18093954, 5873.18093954, 5873.18093954, 5873.18093954,\n",
       "       5873.18093954, 5873.18093954, 5873.18093954, 5873.18093954,\n",
       "       5873.18093954, 5873.18093954, 5873.18093954, 5873.18093954,\n",
       "       5873.18093954, 5873.18093954, 5873.18093954, 5873.18093954,\n",
       "       5873.18093954, 5873.18093954, 5873.18093954, 5873.18093954,\n",
       "       5873.18093954, 5873.18093954, 5873.18093954, 5873.18093954,\n",
       "       5873.18093954, 5873.18093954, 5873.18093954, 5873.18093954,\n",
       "       5873.18093954, 5873.18093954, 5873.18093954, 5873.18093954,\n",
       "       5873.18093954, 5873.18093954, 5873.18093954, 5873.18093954,\n",
       "       5873.18093954, 5873.18093954, 5873.18093954, 5873.18093954,\n",
       "       5873.18093954, 5873.18093954, 5873.18093954, 5873.18093954,\n",
       "       5873.18093954, 5873.18093954, 5873.18093954, 5873.18093954,\n",
       "       5873.18093954, 5873.18093954, 5873.18093954, 5873.18093954,\n",
       "       5873.18093954, 5873.18093954, 5873.18093954, 5873.18093954,\n",
       "       5873.18093954, 5873.18093954, 5873.18093954, 5873.18093954,\n",
       "       5873.18093954, 5873.18093954, 5873.18093954, 5873.18093954,\n",
       "       5873.18093954, 5873.18093954, 5873.18093954, 5873.18093954,\n",
       "       5873.18093954, 5873.18093954, 5873.18093954, 5873.18093954,\n",
       "       5873.18093954, 5873.18093954, 5873.18093954, 5873.18093954,\n",
       "       5873.18093954, 5873.18093954, 5873.18093954, 5873.18093954,\n",
       "       5873.18093954, 5873.18093954, 5873.18093954, 5873.18093954,\n",
       "       5873.18093954, 5873.18093954, 5873.18093954, 5873.18093954,\n",
       "       5873.18093954, 5873.18093954, 5873.18093954, 5873.18093954,\n",
       "       5873.18093954, 5873.18093954, 5873.18093954, 5873.18093954,\n",
       "       5873.18093954, 5873.18093954, 5873.18093954, 5873.18093954,\n",
       "       5873.18093954, 5873.18093954, 5873.18093954, 5873.18093954,\n",
       "       5873.18093954, 5873.18093954, 5873.18093954, 5873.18093954,\n",
       "       5873.18093954, 5873.18093954, 5873.18093954, 5873.18093954,\n",
       "       5873.18093954, 5873.18093954, 5873.18093954, 5873.18093954,\n",
       "       5873.18093954])"
      ]
     },
     "execution_count": 59,
     "metadata": {},
     "output_type": "execute_result"
    }
   ],
   "source": [
    "scaler.inverse_transform(svr_rbf.predict(dates_test))"
   ]
  },
  {
   "cell_type": "code",
   "execution_count": null,
   "metadata": {},
   "outputs": [],
   "source": []
  }
 ],
 "metadata": {
  "kernelspec": {
   "display_name": "Python 3",
   "language": "python",
   "name": "python3"
  },
  "language_info": {
   "codemirror_mode": {
    "name": "ipython",
    "version": 3
   },
   "file_extension": ".py",
   "mimetype": "text/x-python",
   "name": "python",
   "nbconvert_exporter": "python",
   "pygments_lexer": "ipython3",
   "version": "3.8.6"
  }
 },
 "nbformat": 4,
 "nbformat_minor": 4
}
